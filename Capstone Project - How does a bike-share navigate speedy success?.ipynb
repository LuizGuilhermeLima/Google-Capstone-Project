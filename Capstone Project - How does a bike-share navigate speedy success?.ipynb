{
 "cells": [
  {
   "cell_type": "markdown",
   "id": "757bc9f1",
   "metadata": {},
   "source": [
    "### Case Study: How Does a Bike-Share Navigate Speedy Success?\n",
    "This case study is part of the Capstone of the Google Data Analytics Professional Certificate\n",
    "\n",
    "### Introduction\n",
    "The bike-share company Cyclistic, in Chicago wants to analyze how casual riders and annual members use Cyclistic bikes differently because they want to desing a strategy to increase the annual member.\n",
    "\n",
    "As a part of this project, analyzing historical data, I want to answer the questions, whether there is or no difference between those types of users.\n",
    "\n",
    "In order to answer the key business questions, I will follow the steps of the data analysis process: ask, prepare, process, analyze, share, and act.\n",
    "\n",
    "### Phase 1: Ask\n",
    "Key tasks :\n",
    "\n",
    "The business task\n",
    "\n",
    "    How annual members and casual riders use Cyclistic bikes differently because the company want to increase the number of annual members.\n",
    "\n",
    "Key stakeholders\n",
    "\n",
    "    Lily Moreno: the director of marketing, believes that the future of the company depends on maximizing the number of annual memberships.\n",
    "\n",
    "### Phase 2: Prepare\n",
    "\n",
    "- Data is locates at https://divvy-tripdata.s3.amazonaws.com/index.html\n",
    "- Data is organiszed in a folder containing 12 subfolders have 12 csv files from September 2021 to September 2022.\n",
    "- The data is ROCCC because it's reliable, original, comprehensive, current and cited.\n",
    "- The company has their own licence over the dataset. Besides that, the dataset doesn't have any personal information about the riders.\n",
    "\n",
    "### Phase 3: Process\n",
    "As the csv files are in 12 different, I have merged them together into a single Dataframe.\n"
   ]
  },
  {
   "cell_type": "markdown",
   "id": "1f01fe91",
   "metadata": {},
   "source": [
    "### Importing necessary libraries"
   ]
  },
  {
   "cell_type": "code",
   "execution_count": 1,
   "id": "c1369849",
   "metadata": {},
   "outputs": [],
   "source": [
    "import pandas as pd"
   ]
  },
  {
   "cell_type": "code",
   "execution_count": 2,
   "id": "a30ab0de",
   "metadata": {},
   "outputs": [],
   "source": [
    "# Importing monthly data on bike-share navigation\n",
    "\n",
    "df1 = pd.read_csv('202109-divvy-tripdata.csv')\n",
    "df2 = pd.read_csv('202110-divvy-tripdata.csv')\n",
    "df3 = pd.read_csv('202111-divvy-tripdata.csv')  \n",
    "df4 = pd.read_csv('202112-divvy-tripdata.csv')\n",
    "df5 = pd.read_csv('202201-divvy-tripdata.csv')\n",
    "df6 = pd.read_csv('202202-divvy-tripdata.csv')\n",
    "df7 = pd.read_csv('202203-divvy-tripdata.csv')\n",
    "df8 = pd.read_csv('202204-divvy-tripdata.csv')\n",
    "df9 = pd.read_csv('202205-divvy-tripdata.csv')\n",
    "df10 = pd.read_csv('202206-divvy-tripdata.csv')\n",
    "df11 = pd.read_csv('202207-divvy-tripdata.csv')\n",
    "df12 = pd.read_csv('202208-divvy-tripdata.csv')\n",
    "df13 = pd.read_csv('202209-divvy-publictripdata.csv')"
   ]
  },
  {
   "cell_type": "code",
   "execution_count": 3,
   "id": "63612981",
   "metadata": {},
   "outputs": [],
   "source": [
    "# combining all data frames into one\n",
    "\n",
    "df = pd.concat([df1, df2, df3, df4, df5, df6, df7, df8, df9, df10, df11, df12, df13], axis = 0)"
   ]
  },
  {
   "cell_type": "markdown",
   "id": "35724965",
   "metadata": {},
   "source": [
    "### EDA (Exploratory Data Analysis)"
   ]
  },
  {
   "cell_type": "code",
   "execution_count": 4,
   "id": "448b6b0f",
   "metadata": {},
   "outputs": [
    {
     "data": {
      "text/html": [
       "<div>\n",
       "<style scoped>\n",
       "    .dataframe tbody tr th:only-of-type {\n",
       "        vertical-align: middle;\n",
       "    }\n",
       "\n",
       "    .dataframe tbody tr th {\n",
       "        vertical-align: top;\n",
       "    }\n",
       "\n",
       "    .dataframe thead th {\n",
       "        text-align: right;\n",
       "    }\n",
       "</style>\n",
       "<table border=\"1\" class=\"dataframe\">\n",
       "  <thead>\n",
       "    <tr style=\"text-align: right;\">\n",
       "      <th></th>\n",
       "      <th>ride_id</th>\n",
       "      <th>rideable_type</th>\n",
       "      <th>started_at</th>\n",
       "      <th>ended_at</th>\n",
       "      <th>start_station_name</th>\n",
       "      <th>start_station_id</th>\n",
       "      <th>end_station_name</th>\n",
       "      <th>end_station_id</th>\n",
       "      <th>start_lat</th>\n",
       "      <th>start_lng</th>\n",
       "      <th>end_lat</th>\n",
       "      <th>end_lng</th>\n",
       "      <th>member_casual</th>\n",
       "    </tr>\n",
       "  </thead>\n",
       "  <tbody>\n",
       "    <tr>\n",
       "      <th>0</th>\n",
       "      <td>9DC7B962304CBFD8</td>\n",
       "      <td>electric_bike</td>\n",
       "      <td>2021-09-28 16:07:10</td>\n",
       "      <td>2021-09-28 16:09:54</td>\n",
       "      <td>NaN</td>\n",
       "      <td>NaN</td>\n",
       "      <td>NaN</td>\n",
       "      <td>NaN</td>\n",
       "      <td>41.89</td>\n",
       "      <td>-87.68</td>\n",
       "      <td>41.89</td>\n",
       "      <td>-87.67</td>\n",
       "      <td>casual</td>\n",
       "    </tr>\n",
       "    <tr>\n",
       "      <th>1</th>\n",
       "      <td>F930E2C6872D6B32</td>\n",
       "      <td>electric_bike</td>\n",
       "      <td>2021-09-28 14:24:51</td>\n",
       "      <td>2021-09-28 14:40:05</td>\n",
       "      <td>NaN</td>\n",
       "      <td>NaN</td>\n",
       "      <td>NaN</td>\n",
       "      <td>NaN</td>\n",
       "      <td>41.94</td>\n",
       "      <td>-87.64</td>\n",
       "      <td>41.98</td>\n",
       "      <td>-87.67</td>\n",
       "      <td>casual</td>\n",
       "    </tr>\n",
       "    <tr>\n",
       "      <th>2</th>\n",
       "      <td>6EF72137900BB910</td>\n",
       "      <td>electric_bike</td>\n",
       "      <td>2021-09-28 00:20:16</td>\n",
       "      <td>2021-09-28 00:23:57</td>\n",
       "      <td>NaN</td>\n",
       "      <td>NaN</td>\n",
       "      <td>NaN</td>\n",
       "      <td>NaN</td>\n",
       "      <td>41.81</td>\n",
       "      <td>-87.72</td>\n",
       "      <td>41.80</td>\n",
       "      <td>-87.72</td>\n",
       "      <td>casual</td>\n",
       "    </tr>\n",
       "    <tr>\n",
       "      <th>3</th>\n",
       "      <td>78D1DE133B3DBF55</td>\n",
       "      <td>electric_bike</td>\n",
       "      <td>2021-09-28 14:51:17</td>\n",
       "      <td>2021-09-28 15:00:06</td>\n",
       "      <td>NaN</td>\n",
       "      <td>NaN</td>\n",
       "      <td>NaN</td>\n",
       "      <td>NaN</td>\n",
       "      <td>41.80</td>\n",
       "      <td>-87.72</td>\n",
       "      <td>41.81</td>\n",
       "      <td>-87.72</td>\n",
       "      <td>casual</td>\n",
       "    </tr>\n",
       "    <tr>\n",
       "      <th>4</th>\n",
       "      <td>E03D4ACDCAEF6E00</td>\n",
       "      <td>electric_bike</td>\n",
       "      <td>2021-09-28 09:53:12</td>\n",
       "      <td>2021-09-28 10:03:44</td>\n",
       "      <td>NaN</td>\n",
       "      <td>NaN</td>\n",
       "      <td>NaN</td>\n",
       "      <td>NaN</td>\n",
       "      <td>41.88</td>\n",
       "      <td>-87.74</td>\n",
       "      <td>41.88</td>\n",
       "      <td>-87.71</td>\n",
       "      <td>casual</td>\n",
       "    </tr>\n",
       "  </tbody>\n",
       "</table>\n",
       "</div>"
      ],
      "text/plain": [
       "            ride_id  rideable_type           started_at             ended_at  \\\n",
       "0  9DC7B962304CBFD8  electric_bike  2021-09-28 16:07:10  2021-09-28 16:09:54   \n",
       "1  F930E2C6872D6B32  electric_bike  2021-09-28 14:24:51  2021-09-28 14:40:05   \n",
       "2  6EF72137900BB910  electric_bike  2021-09-28 00:20:16  2021-09-28 00:23:57   \n",
       "3  78D1DE133B3DBF55  electric_bike  2021-09-28 14:51:17  2021-09-28 15:00:06   \n",
       "4  E03D4ACDCAEF6E00  electric_bike  2021-09-28 09:53:12  2021-09-28 10:03:44   \n",
       "\n",
       "  start_station_name start_station_id end_station_name end_station_id  \\\n",
       "0                NaN              NaN              NaN            NaN   \n",
       "1                NaN              NaN              NaN            NaN   \n",
       "2                NaN              NaN              NaN            NaN   \n",
       "3                NaN              NaN              NaN            NaN   \n",
       "4                NaN              NaN              NaN            NaN   \n",
       "\n",
       "   start_lat  start_lng  end_lat  end_lng member_casual  \n",
       "0      41.89     -87.68    41.89   -87.67        casual  \n",
       "1      41.94     -87.64    41.98   -87.67        casual  \n",
       "2      41.81     -87.72    41.80   -87.72        casual  \n",
       "3      41.80     -87.72    41.81   -87.72        casual  \n",
       "4      41.88     -87.74    41.88   -87.71        casual  "
      ]
     },
     "execution_count": 4,
     "metadata": {},
     "output_type": "execute_result"
    }
   ],
   "source": [
    "# snapshot of data collected\n",
    "df.head()"
   ]
  },
  {
   "cell_type": "code",
   "execution_count": 5,
   "id": "728cb9d5",
   "metadata": {},
   "outputs": [
    {
     "name": "stdout",
     "output_type": "stream",
     "text": [
      "<class 'pandas.core.frame.DataFrame'>\n",
      "Int64Index: 6584382 entries, 0 to 701338\n",
      "Data columns (total 13 columns):\n",
      " #   Column              Dtype  \n",
      "---  ------              -----  \n",
      " 0   ride_id             object \n",
      " 1   rideable_type       object \n",
      " 2   started_at          object \n",
      " 3   ended_at            object \n",
      " 4   start_station_name  object \n",
      " 5   start_station_id    object \n",
      " 6   end_station_name    object \n",
      " 7   end_station_id      object \n",
      " 8   start_lat           float64\n",
      " 9   start_lng           float64\n",
      " 10  end_lat             float64\n",
      " 11  end_lng             float64\n",
      " 12  member_casual       object \n",
      "dtypes: float64(4), object(9)\n",
      "memory usage: 703.3+ MB\n"
     ]
    }
   ],
   "source": [
    "# information about data and data types\n",
    "df.info()"
   ]
  },
  {
   "cell_type": "code",
   "execution_count": 6,
   "id": "536d1b91",
   "metadata": {},
   "outputs": [
    {
     "data": {
      "text/plain": [
       "ride_id                     0\n",
       "rideable_type               0\n",
       "started_at                  0\n",
       "ended_at                    0\n",
       "start_station_name     988145\n",
       "start_station_id       988143\n",
       "end_station_name      1057488\n",
       "end_station_id        1057488\n",
       "start_lat                   0\n",
       "start_lng                   0\n",
       "end_lat                  6439\n",
       "end_lng                  6439\n",
       "member_casual               0\n",
       "dtype: int64"
      ]
     },
     "execution_count": 6,
     "metadata": {},
     "output_type": "execute_result"
    }
   ],
   "source": [
    "# checking for null values \n",
    "df.isnull().sum()\n",
    "\n",
    "# lots of information about data station, names is missing it can be cleaned, however it is not needed\n",
    "# for the business questions asked. So we can remove the trajectory performer, but still have enough data to work with."
   ]
  },
  {
   "cell_type": "code",
   "execution_count": 7,
   "id": "86727788",
   "metadata": {},
   "outputs": [
    {
     "data": {
      "text/plain": [
       "0"
      ]
     },
     "execution_count": 7,
     "metadata": {},
     "output_type": "execute_result"
    }
   ],
   "source": [
    "# checking for duplicated rows.  \n",
    "df.duplicated().sum()"
   ]
  },
  {
   "cell_type": "code",
   "execution_count": 8,
   "id": "fc39d6f5",
   "metadata": {},
   "outputs": [
    {
     "name": "stderr",
     "output_type": "stream",
     "text": [
      "/var/folders/wx/vd1lhmjn7xz10rb8z09shxyw0000gn/T/ipykernel_7999/3682524719.py:6: SettingWithCopyWarning: \n",
      "A value is trying to be set on a copy of a slice from a DataFrame\n",
      "\n",
      "See the caveats in the documentation: https://pandas.pydata.org/pandas-docs/stable/user_guide/indexing.html#returning-a-view-versus-a-copy\n",
      "  new_df.dropna(axis=0, inplace=True)\n"
     ]
    },
    {
     "data": {
      "text/plain": [
       "rideable_type    0\n",
       "started_at       0\n",
       "ended_at         0\n",
       "member_casual    0\n",
       "start_lat        0\n",
       "start_lng        0\n",
       "end_lat          0\n",
       "end_lng          0\n",
       "dtype: int64"
      ]
     },
     "execution_count": 8,
     "metadata": {},
     "output_type": "execute_result"
    }
   ],
   "source": [
    "# creation of new data frame with only necessary information for analysis\n",
    "\n",
    "new_df = df[['rideable_type','started_at','ended_at','member_casual','start_lat','start_lng','end_lat','end_lng']]\n",
    "\n",
    "# since the end_lat and end_lng has a small amount of null values and it will not interfer with the analysis of the data we can dropp the null values\n",
    "new_df.dropna(axis=0, inplace=True)\n",
    "\n",
    "# checking that all null values were dropped correctly\n",
    "new_df.isnull().sum()"
   ]
  },
  {
   "cell_type": "code",
   "execution_count": 10,
   "id": "715c5fcb",
   "metadata": {},
   "outputs": [
    {
     "name": "stderr",
     "output_type": "stream",
     "text": [
      "/var/folders/wx/vd1lhmjn7xz10rb8z09shxyw0000gn/T/ipykernel_7999/2105244608.py:3: SettingWithCopyWarning: \n",
      "A value is trying to be set on a copy of a slice from a DataFrame.\n",
      "Try using .loc[row_indexer,col_indexer] = value instead\n",
      "\n",
      "See the caveats in the documentation: https://pandas.pydata.org/pandas-docs/stable/user_guide/indexing.html#returning-a-view-versus-a-copy\n",
      "  new_df['started_at'] = pd.to_datetime(new_df['started_at'])\n",
      "/var/folders/wx/vd1lhmjn7xz10rb8z09shxyw0000gn/T/ipykernel_7999/2105244608.py:4: SettingWithCopyWarning: \n",
      "A value is trying to be set on a copy of a slice from a DataFrame.\n",
      "Try using .loc[row_indexer,col_indexer] = value instead\n",
      "\n",
      "See the caveats in the documentation: https://pandas.pydata.org/pandas-docs/stable/user_guide/indexing.html#returning-a-view-versus-a-copy\n",
      "  new_df['ended_at'] = pd.to_datetime(new_df['ended_at'])\n"
     ]
    }
   ],
   "source": [
    "# converting 'started_at' and 'ended_at' to datetime to be better analyzed\n",
    "\n",
    "new_df['started_at'] = pd.to_datetime(new_df['started_at'])\n",
    "new_df['ended_at'] = pd.to_datetime(new_df['ended_at'])"
   ]
  },
  {
   "cell_type": "code",
   "execution_count": 12,
   "id": "e3eaefe7",
   "metadata": {
    "scrolled": true
   },
   "outputs": [
    {
     "name": "stdout",
     "output_type": "stream",
     "text": [
      "<class 'pandas.core.frame.DataFrame'>\n",
      "Int64Index: 6577943 entries, 0 to 701338\n",
      "Data columns (total 8 columns):\n",
      " #   Column         Dtype         \n",
      "---  ------         -----         \n",
      " 0   rideable_type  object        \n",
      " 1   started_at     datetime64[ns]\n",
      " 2   ended_at       datetime64[ns]\n",
      " 3   member_casual  object        \n",
      " 4   start_lat      float64       \n",
      " 5   start_lng      float64       \n",
      " 6   end_lat        float64       \n",
      " 7   end_lng        float64       \n",
      "dtypes: datetime64[ns](2), float64(4), object(2)\n",
      "memory usage: 451.7+ MB\n"
     ]
    }
   ],
   "source": [
    "# confirming new data type of 'started_at' and 'ended_at' columns are datetime\n",
    "new_df.info()"
   ]
  },
  {
   "cell_type": "code",
   "execution_count": 13,
   "id": "b3877d0c",
   "metadata": {
    "scrolled": true
   },
   "outputs": [
    {
     "data": {
      "text/plain": [
       "member    3818373\n",
       "casual    2759570\n",
       "Name: member_casual, dtype: int64"
      ]
     },
     "execution_count": 13,
     "metadata": {},
     "output_type": "execute_result"
    }
   ],
   "source": [
    "# checking the number of trips made by members vs casual riders\n",
    "new_df['member_casual'].value_counts()"
   ]
  },
  {
   "cell_type": "code",
   "execution_count": 14,
   "id": "2ba7e140",
   "metadata": {
    "scrolled": false
   },
   "outputs": [
    {
     "data": {
      "text/plain": [
       "classic_bike     3198908\n",
       "electric_bike    3153770\n",
       "docked_bike       225265\n",
       "Name: rideable_type, dtype: int64"
      ]
     },
     "execution_count": 14,
     "metadata": {},
     "output_type": "execute_result"
    }
   ],
   "source": [
    "# understanting the type of bikes and more often used.\n",
    "new_df['rideable_type'].value_counts()"
   ]
  },
  {
   "cell_type": "code",
   "execution_count": 22,
   "id": "78563176",
   "metadata": {},
   "outputs": [
    {
     "name": "stderr",
     "output_type": "stream",
     "text": [
      "/var/folders/wx/vd1lhmjn7xz10rb8z09shxyw0000gn/T/ipykernel_7999/1515745572.py:1: SettingWithCopyWarning: \n",
      "A value is trying to be set on a copy of a slice from a DataFrame.\n",
      "Try using .loc[row_indexer,col_indexer] = value instead\n",
      "\n",
      "See the caveats in the documentation: https://pandas.pydata.org/pandas-docs/stable/user_guide/indexing.html#returning-a-view-versus-a-copy\n",
      "  new_df['start_coord'] = new_df[['start_lat','start_lng']].apply(tuple, axis=1)\n",
      "/var/folders/wx/vd1lhmjn7xz10rb8z09shxyw0000gn/T/ipykernel_7999/1515745572.py:2: SettingWithCopyWarning: \n",
      "A value is trying to be set on a copy of a slice from a DataFrame.\n",
      "Try using .loc[row_indexer,col_indexer] = value instead\n",
      "\n",
      "See the caveats in the documentation: https://pandas.pydata.org/pandas-docs/stable/user_guide/indexing.html#returning-a-view-versus-a-copy\n",
      "  new_df['end_coord'] = new_df[['end_lat','end_lng']].apply(tuple,axis=1)\n"
     ]
    },
    {
     "data": {
      "text/html": [
       "<div>\n",
       "<style scoped>\n",
       "    .dataframe tbody tr th:only-of-type {\n",
       "        vertical-align: middle;\n",
       "    }\n",
       "\n",
       "    .dataframe tbody tr th {\n",
       "        vertical-align: top;\n",
       "    }\n",
       "\n",
       "    .dataframe thead th {\n",
       "        text-align: right;\n",
       "    }\n",
       "</style>\n",
       "<table border=\"1\" class=\"dataframe\">\n",
       "  <thead>\n",
       "    <tr style=\"text-align: right;\">\n",
       "      <th></th>\n",
       "      <th>rideable_type</th>\n",
       "      <th>started_at</th>\n",
       "      <th>ended_at</th>\n",
       "      <th>member_casual</th>\n",
       "      <th>start_lat</th>\n",
       "      <th>start_lng</th>\n",
       "      <th>end_lat</th>\n",
       "      <th>end_lng</th>\n",
       "      <th>start_coord</th>\n",
       "      <th>end_coord</th>\n",
       "    </tr>\n",
       "  </thead>\n",
       "  <tbody>\n",
       "    <tr>\n",
       "      <th>0</th>\n",
       "      <td>electric_bike</td>\n",
       "      <td>2021-09-28 16:07:10</td>\n",
       "      <td>2021-09-28 16:09:54</td>\n",
       "      <td>casual</td>\n",
       "      <td>41.89</td>\n",
       "      <td>-87.68</td>\n",
       "      <td>41.89</td>\n",
       "      <td>-87.67</td>\n",
       "      <td>(41.89, -87.68)</td>\n",
       "      <td>(41.89, -87.67)</td>\n",
       "    </tr>\n",
       "    <tr>\n",
       "      <th>1</th>\n",
       "      <td>electric_bike</td>\n",
       "      <td>2021-09-28 14:24:51</td>\n",
       "      <td>2021-09-28 14:40:05</td>\n",
       "      <td>casual</td>\n",
       "      <td>41.94</td>\n",
       "      <td>-87.64</td>\n",
       "      <td>41.98</td>\n",
       "      <td>-87.67</td>\n",
       "      <td>(41.94, -87.64)</td>\n",
       "      <td>(41.98, -87.67)</td>\n",
       "    </tr>\n",
       "    <tr>\n",
       "      <th>2</th>\n",
       "      <td>electric_bike</td>\n",
       "      <td>2021-09-28 00:20:16</td>\n",
       "      <td>2021-09-28 00:23:57</td>\n",
       "      <td>casual</td>\n",
       "      <td>41.81</td>\n",
       "      <td>-87.72</td>\n",
       "      <td>41.80</td>\n",
       "      <td>-87.72</td>\n",
       "      <td>(41.81, -87.72)</td>\n",
       "      <td>(41.8, -87.72)</td>\n",
       "    </tr>\n",
       "    <tr>\n",
       "      <th>3</th>\n",
       "      <td>electric_bike</td>\n",
       "      <td>2021-09-28 14:51:17</td>\n",
       "      <td>2021-09-28 15:00:06</td>\n",
       "      <td>casual</td>\n",
       "      <td>41.80</td>\n",
       "      <td>-87.72</td>\n",
       "      <td>41.81</td>\n",
       "      <td>-87.72</td>\n",
       "      <td>(41.8, -87.72)</td>\n",
       "      <td>(41.81, -87.72)</td>\n",
       "    </tr>\n",
       "    <tr>\n",
       "      <th>4</th>\n",
       "      <td>electric_bike</td>\n",
       "      <td>2021-09-28 09:53:12</td>\n",
       "      <td>2021-09-28 10:03:44</td>\n",
       "      <td>casual</td>\n",
       "      <td>41.88</td>\n",
       "      <td>-87.74</td>\n",
       "      <td>41.88</td>\n",
       "      <td>-87.71</td>\n",
       "      <td>(41.88, -87.74)</td>\n",
       "      <td>(41.88, -87.71)</td>\n",
       "    </tr>\n",
       "  </tbody>\n",
       "</table>\n",
       "</div>"
      ],
      "text/plain": [
       "   rideable_type          started_at            ended_at member_casual  \\\n",
       "0  electric_bike 2021-09-28 16:07:10 2021-09-28 16:09:54        casual   \n",
       "1  electric_bike 2021-09-28 14:24:51 2021-09-28 14:40:05        casual   \n",
       "2  electric_bike 2021-09-28 00:20:16 2021-09-28 00:23:57        casual   \n",
       "3  electric_bike 2021-09-28 14:51:17 2021-09-28 15:00:06        casual   \n",
       "4  electric_bike 2021-09-28 09:53:12 2021-09-28 10:03:44        casual   \n",
       "\n",
       "   start_lat  start_lng  end_lat  end_lng      start_coord        end_coord  \n",
       "0      41.89     -87.68    41.89   -87.67  (41.89, -87.68)  (41.89, -87.67)  \n",
       "1      41.94     -87.64    41.98   -87.67  (41.94, -87.64)  (41.98, -87.67)  \n",
       "2      41.81     -87.72    41.80   -87.72  (41.81, -87.72)   (41.8, -87.72)  \n",
       "3      41.80     -87.72    41.81   -87.72   (41.8, -87.72)  (41.81, -87.72)  \n",
       "4      41.88     -87.74    41.88   -87.71  (41.88, -87.74)  (41.88, -87.71)  "
      ]
     },
     "execution_count": 22,
     "metadata": {},
     "output_type": "execute_result"
    }
   ],
   "source": [
    "# creating a start coordinate and end coordinate, so we can calculate later on the distance of each trip, considering the rider did not do a loop \n",
    "# (he went to a location and left the bike in a different bike station)\n",
    "\n",
    "new_df['start_coord'] = new_df[['start_lat','start_lng']].apply(tuple, axis=1)\n",
    "new_df['end_coord'] = new_df[['end_lat','end_lng']].apply(tuple,axis=1)\n",
    "\n",
    "new_df.head()"
   ]
  },
  {
   "cell_type": "markdown",
   "id": "07f7edbc",
   "metadata": {},
   "source": [
    "## Data Transformation"
   ]
  },
  {
   "cell_type": "code",
   "execution_count": 30,
   "id": "1058f7a6",
   "metadata": {},
   "outputs": [
    {
     "name": "stderr",
     "output_type": "stream",
     "text": [
      "/var/folders/wx/vd1lhmjn7xz10rb8z09shxyw0000gn/T/ipykernel_7999/1747472328.py:6: SettingWithCopyWarning: \n",
      "A value is trying to be set on a copy of a slice from a DataFrame.\n",
      "Try using .loc[row_indexer,col_indexer] = value instead\n",
      "\n",
      "See the caveats in the documentation: https://pandas.pydata.org/pandas-docs/stable/user_guide/indexing.html#returning-a-view-versus-a-copy\n",
      "  new_df['distance_km'] = new_df.apply(distancer, axis=1)\n"
     ]
    }
   ],
   "source": [
    "# creating the distance travelled for each rider, considering the station that the bike was picked up and the station the bike was dropped off\n",
    "\n",
    "# importing library to calculate the distance between two different coordinate points. \n",
    "import geopy.distance\n",
    "\n",
    "def distancer(row):\n",
    "    '''\n",
    "    getting the distance from each row start and end coordinates and returning the distance between the two points in KM.\n",
    "    '''\n",
    "    coords_1 = row['start_coord']\n",
    "    coords_2 = row['end_coord']\n",
    "    return geopy.distance.geodesic(coords_1, coords_2).km\n",
    "\n",
    "# adding a new column with the distance in km between the start and end point of the bike ride\n",
    "new_df['distance_km'] = new_df.apply(distancer, axis=1)"
   ]
  },
  {
   "cell_type": "code",
   "execution_count": 33,
   "id": "ce971cf4",
   "metadata": {},
   "outputs": [
    {
     "data": {
      "text/html": [
       "<div>\n",
       "<style scoped>\n",
       "    .dataframe tbody tr th:only-of-type {\n",
       "        vertical-align: middle;\n",
       "    }\n",
       "\n",
       "    .dataframe tbody tr th {\n",
       "        vertical-align: top;\n",
       "    }\n",
       "\n",
       "    .dataframe thead th {\n",
       "        text-align: right;\n",
       "    }\n",
       "</style>\n",
       "<table border=\"1\" class=\"dataframe\">\n",
       "  <thead>\n",
       "    <tr style=\"text-align: right;\">\n",
       "      <th></th>\n",
       "      <th>rideable_type</th>\n",
       "      <th>started_at</th>\n",
       "      <th>ended_at</th>\n",
       "      <th>member_casual</th>\n",
       "      <th>start_lat</th>\n",
       "      <th>start_lng</th>\n",
       "      <th>end_lat</th>\n",
       "      <th>end_lng</th>\n",
       "      <th>start_coord</th>\n",
       "      <th>end_coord</th>\n",
       "      <th>distance_km</th>\n",
       "    </tr>\n",
       "  </thead>\n",
       "  <tbody>\n",
       "    <tr>\n",
       "      <th>0</th>\n",
       "      <td>electric_bike</td>\n",
       "      <td>2021-09-28 16:07:10</td>\n",
       "      <td>2021-09-28 16:09:54</td>\n",
       "      <td>casual</td>\n",
       "      <td>41.89</td>\n",
       "      <td>-87.68</td>\n",
       "      <td>41.89</td>\n",
       "      <td>-87.67</td>\n",
       "      <td>(41.89, -87.68)</td>\n",
       "      <td>(41.89, -87.67)</td>\n",
       "      <td>0.829933</td>\n",
       "    </tr>\n",
       "    <tr>\n",
       "      <th>1</th>\n",
       "      <td>electric_bike</td>\n",
       "      <td>2021-09-28 14:24:51</td>\n",
       "      <td>2021-09-28 14:40:05</td>\n",
       "      <td>casual</td>\n",
       "      <td>41.94</td>\n",
       "      <td>-87.64</td>\n",
       "      <td>41.98</td>\n",
       "      <td>-87.67</td>\n",
       "      <td>(41.94, -87.64)</td>\n",
       "      <td>(41.98, -87.67)</td>\n",
       "      <td>5.091652</td>\n",
       "    </tr>\n",
       "    <tr>\n",
       "      <th>2</th>\n",
       "      <td>electric_bike</td>\n",
       "      <td>2021-09-28 00:20:16</td>\n",
       "      <td>2021-09-28 00:23:57</td>\n",
       "      <td>casual</td>\n",
       "      <td>41.81</td>\n",
       "      <td>-87.72</td>\n",
       "      <td>41.80</td>\n",
       "      <td>-87.72</td>\n",
       "      <td>(41.81, -87.72)</td>\n",
       "      <td>(41.8, -87.72)</td>\n",
       "      <td>1.110695</td>\n",
       "    </tr>\n",
       "    <tr>\n",
       "      <th>3</th>\n",
       "      <td>electric_bike</td>\n",
       "      <td>2021-09-28 14:51:17</td>\n",
       "      <td>2021-09-28 15:00:06</td>\n",
       "      <td>casual</td>\n",
       "      <td>41.80</td>\n",
       "      <td>-87.72</td>\n",
       "      <td>41.81</td>\n",
       "      <td>-87.72</td>\n",
       "      <td>(41.8, -87.72)</td>\n",
       "      <td>(41.81, -87.72)</td>\n",
       "      <td>1.110695</td>\n",
       "    </tr>\n",
       "    <tr>\n",
       "      <th>4</th>\n",
       "      <td>electric_bike</td>\n",
       "      <td>2021-09-28 09:53:12</td>\n",
       "      <td>2021-09-28 10:03:44</td>\n",
       "      <td>casual</td>\n",
       "      <td>41.88</td>\n",
       "      <td>-87.74</td>\n",
       "      <td>41.88</td>\n",
       "      <td>-87.71</td>\n",
       "      <td>(41.88, -87.74)</td>\n",
       "      <td>(41.88, -87.71)</td>\n",
       "      <td>2.490187</td>\n",
       "    </tr>\n",
       "  </tbody>\n",
       "</table>\n",
       "</div>"
      ],
      "text/plain": [
       "   rideable_type          started_at            ended_at member_casual  \\\n",
       "0  electric_bike 2021-09-28 16:07:10 2021-09-28 16:09:54        casual   \n",
       "1  electric_bike 2021-09-28 14:24:51 2021-09-28 14:40:05        casual   \n",
       "2  electric_bike 2021-09-28 00:20:16 2021-09-28 00:23:57        casual   \n",
       "3  electric_bike 2021-09-28 14:51:17 2021-09-28 15:00:06        casual   \n",
       "4  electric_bike 2021-09-28 09:53:12 2021-09-28 10:03:44        casual   \n",
       "\n",
       "   start_lat  start_lng  end_lat  end_lng      start_coord        end_coord  \\\n",
       "0      41.89     -87.68    41.89   -87.67  (41.89, -87.68)  (41.89, -87.67)   \n",
       "1      41.94     -87.64    41.98   -87.67  (41.94, -87.64)  (41.98, -87.67)   \n",
       "2      41.81     -87.72    41.80   -87.72  (41.81, -87.72)   (41.8, -87.72)   \n",
       "3      41.80     -87.72    41.81   -87.72   (41.8, -87.72)  (41.81, -87.72)   \n",
       "4      41.88     -87.74    41.88   -87.71  (41.88, -87.74)  (41.88, -87.71)   \n",
       "\n",
       "   distance_km  \n",
       "0     0.829933  \n",
       "1     5.091652  \n",
       "2     1.110695  \n",
       "3     1.110695  \n",
       "4     2.490187  "
      ]
     },
     "execution_count": 33,
     "metadata": {},
     "output_type": "execute_result"
    }
   ],
   "source": [
    "# checking the distance_km column created on the dataframe\n",
    "\n",
    "new_df.head()"
   ]
  },
  {
   "cell_type": "code",
   "execution_count": 35,
   "id": "7350fa59",
   "metadata": {},
   "outputs": [
    {
     "data": {
      "text/plain": [
       "member_casual\n",
       "casual    2.229727\n",
       "member    2.099361\n",
       "Name: distance_km, dtype: float64"
      ]
     },
     "execution_count": 35,
     "metadata": {},
     "output_type": "execute_result"
    }
   ],
   "source": [
    "# seeing the difference between members and casuals on trip distance\n",
    "\n",
    "new_df.groupby('member_casual')['distance_km'].mean()"
   ]
  },
  {
   "cell_type": "code",
   "execution_count": 40,
   "id": "6ac81a76",
   "metadata": {},
   "outputs": [
    {
     "name": "stderr",
     "output_type": "stream",
     "text": [
      "/var/folders/wx/vd1lhmjn7xz10rb8z09shxyw0000gn/T/ipykernel_7999/1167123630.py:2: SettingWithCopyWarning: \n",
      "A value is trying to be set on a copy of a slice from a DataFrame.\n",
      "Try using .loc[row_indexer,col_indexer] = value instead\n",
      "\n",
      "See the caveats in the documentation: https://pandas.pydata.org/pandas-docs/stable/user_guide/indexing.html#returning-a-view-versus-a-copy\n",
      "  new_df['ride_duration'] = (new_df['ended_at'] - new_df['started_at']) / pd.Timedelta(minutes=1)\n"
     ]
    }
   ],
   "source": [
    "# understaning the duration of each bike trip\n",
    "new_df['ride_duration'] = (new_df['ended_at'] - new_df['started_at']) / pd.Timedelta(minutes=1)"
   ]
  },
  {
   "cell_type": "code",
   "execution_count": 14,
   "id": "efca6d17",
   "metadata": {},
   "outputs": [
    {
     "data": {
      "text/plain": [
       "member_casual\n",
       "casual    29.155933\n",
       "member    12.864634\n",
       "Name: ride_duration, dtype: float64"
      ]
     },
     "execution_count": 14,
     "metadata": {},
     "output_type": "execute_result"
    }
   ],
   "source": [
    "# seeing the average duration length of bike trips between members and casual riders\n",
    "new_df.groupby(['member_casual'])['ride_duration'].mean()"
   ]
  },
  {
   "cell_type": "code",
   "execution_count": 52,
   "id": "f9513340",
   "metadata": {},
   "outputs": [
    {
     "name": "stderr",
     "output_type": "stream",
     "text": [
      "/var/folders/wx/vd1lhmjn7xz10rb8z09shxyw0000gn/T/ipykernel_7999/3496812706.py:5: SettingWithCopyWarning: \n",
      "A value is trying to be set on a copy of a slice from a DataFrame.\n",
      "Try using .loc[row_indexer,col_indexer] = value instead\n",
      "\n",
      "See the caveats in the documentation: https://pandas.pydata.org/pandas-docs/stable/user_guide/indexing.html#returning-a-view-versus-a-copy\n",
      "  new_df['date'] = pd.to_datetime(new_df['started_at']).dt.date\n",
      "/var/folders/wx/vd1lhmjn7xz10rb8z09shxyw0000gn/T/ipykernel_7999/3496812706.py:6: SettingWithCopyWarning: \n",
      "A value is trying to be set on a copy of a slice from a DataFrame.\n",
      "Try using .loc[row_indexer,col_indexer] = value instead\n",
      "\n",
      "See the caveats in the documentation: https://pandas.pydata.org/pandas-docs/stable/user_guide/indexing.html#returning-a-view-versus-a-copy\n",
      "  new_df['day_of_week'] = new_df['started_at'].dt.day_name()\n",
      "/var/folders/wx/vd1lhmjn7xz10rb8z09shxyw0000gn/T/ipykernel_7999/3496812706.py:7: SettingWithCopyWarning: \n",
      "A value is trying to be set on a copy of a slice from a DataFrame.\n",
      "Try using .loc[row_indexer,col_indexer] = value instead\n",
      "\n",
      "See the caveats in the documentation: https://pandas.pydata.org/pandas-docs/stable/user_guide/indexing.html#returning-a-view-versus-a-copy\n",
      "  new_df['month'] = new_df['started_at'].dt.month\n",
      "/var/folders/wx/vd1lhmjn7xz10rb8z09shxyw0000gn/T/ipykernel_7999/3496812706.py:8: SettingWithCopyWarning: \n",
      "A value is trying to be set on a copy of a slice from a DataFrame.\n",
      "Try using .loc[row_indexer,col_indexer] = value instead\n",
      "\n",
      "See the caveats in the documentation: https://pandas.pydata.org/pandas-docs/stable/user_guide/indexing.html#returning-a-view-versus-a-copy\n",
      "  new_df['year'] = new_df['started_at'].dt.year\n",
      "/var/folders/wx/vd1lhmjn7xz10rb8z09shxyw0000gn/T/ipykernel_7999/3496812706.py:9: SettingWithCopyWarning: \n",
      "A value is trying to be set on a copy of a slice from a DataFrame.\n",
      "Try using .loc[row_indexer,col_indexer] = value instead\n",
      "\n",
      "See the caveats in the documentation: https://pandas.pydata.org/pandas-docs/stable/user_guide/indexing.html#returning-a-view-versus-a-copy\n",
      "  new_df['month_year'] = new_df['started_at'].dt.to_period('M')\n"
     ]
    },
    {
     "data": {
      "text/html": [
       "<div>\n",
       "<style scoped>\n",
       "    .dataframe tbody tr th:only-of-type {\n",
       "        vertical-align: middle;\n",
       "    }\n",
       "\n",
       "    .dataframe tbody tr th {\n",
       "        vertical-align: top;\n",
       "    }\n",
       "\n",
       "    .dataframe thead th {\n",
       "        text-align: right;\n",
       "    }\n",
       "</style>\n",
       "<table border=\"1\" class=\"dataframe\">\n",
       "  <thead>\n",
       "    <tr style=\"text-align: right;\">\n",
       "      <th></th>\n",
       "      <th>rideable_type</th>\n",
       "      <th>started_at</th>\n",
       "      <th>ended_at</th>\n",
       "      <th>member_casual</th>\n",
       "      <th>start_lat</th>\n",
       "      <th>start_lng</th>\n",
       "      <th>end_lat</th>\n",
       "      <th>end_lng</th>\n",
       "      <th>start_coord</th>\n",
       "      <th>end_coord</th>\n",
       "      <th>distance_km</th>\n",
       "      <th>date</th>\n",
       "      <th>day_of_week</th>\n",
       "      <th>month_year</th>\n",
       "      <th>Day_id</th>\n",
       "      <th>ride_duration</th>\n",
       "      <th>month</th>\n",
       "      <th>year</th>\n",
       "    </tr>\n",
       "  </thead>\n",
       "  <tbody>\n",
       "    <tr>\n",
       "      <th>495574</th>\n",
       "      <td>classic_bike</td>\n",
       "      <td>2021-09-26 12:33:38</td>\n",
       "      <td>2021-09-26 12:46:17</td>\n",
       "      <td>member</td>\n",
       "      <td>41.966400</td>\n",
       "      <td>-87.688704</td>\n",
       "      <td>41.940600</td>\n",
       "      <td>-87.678500</td>\n",
       "      <td>(41.966399801840986, -87.68870428204536)</td>\n",
       "      <td>(41.9406, -87.6785)</td>\n",
       "      <td>2.987929</td>\n",
       "      <td>2021-09-26</td>\n",
       "      <td>Sunday</td>\n",
       "      <td>2021-09</td>\n",
       "      <td>0</td>\n",
       "      <td>12.650000</td>\n",
       "      <td>9</td>\n",
       "      <td>2021</td>\n",
       "    </tr>\n",
       "    <tr>\n",
       "      <th>37983</th>\n",
       "      <td>classic_bike</td>\n",
       "      <td>2021-09-12 18:31:11</td>\n",
       "      <td>2021-09-12 18:40:24</td>\n",
       "      <td>casual</td>\n",
       "      <td>41.893992</td>\n",
       "      <td>-87.629318</td>\n",
       "      <td>41.907993</td>\n",
       "      <td>-87.631501</td>\n",
       "      <td>(41.893992, -87.629318)</td>\n",
       "      <td>(41.907993, -87.631501)</td>\n",
       "      <td>1.565625</td>\n",
       "      <td>2021-09-12</td>\n",
       "      <td>Sunday</td>\n",
       "      <td>2021-09</td>\n",
       "      <td>0</td>\n",
       "      <td>9.216667</td>\n",
       "      <td>9</td>\n",
       "      <td>2021</td>\n",
       "    </tr>\n",
       "    <tr>\n",
       "      <th>37984</th>\n",
       "      <td>classic_bike</td>\n",
       "      <td>2021-09-26 11:47:32</td>\n",
       "      <td>2021-09-26 11:56:01</td>\n",
       "      <td>casual</td>\n",
       "      <td>41.893992</td>\n",
       "      <td>-87.629318</td>\n",
       "      <td>41.907993</td>\n",
       "      <td>-87.631501</td>\n",
       "      <td>(41.893992, -87.629318)</td>\n",
       "      <td>(41.907993, -87.631501)</td>\n",
       "      <td>1.565625</td>\n",
       "      <td>2021-09-26</td>\n",
       "      <td>Sunday</td>\n",
       "      <td>2021-09</td>\n",
       "      <td>0</td>\n",
       "      <td>8.483333</td>\n",
       "      <td>9</td>\n",
       "      <td>2021</td>\n",
       "    </tr>\n",
       "    <tr>\n",
       "      <th>616634</th>\n",
       "      <td>electric_bike</td>\n",
       "      <td>2022-09-11 17:53:45</td>\n",
       "      <td>2022-09-11 18:00:33</td>\n",
       "      <td>member</td>\n",
       "      <td>41.890000</td>\n",
       "      <td>-87.660000</td>\n",
       "      <td>41.903450</td>\n",
       "      <td>-87.667747</td>\n",
       "      <td>(41.89, -87.66)</td>\n",
       "      <td>(41.90345, -87.667747)</td>\n",
       "      <td>1.626364</td>\n",
       "      <td>2022-09-11</td>\n",
       "      <td>Sunday</td>\n",
       "      <td>2022-09</td>\n",
       "      <td>0</td>\n",
       "      <td>6.800000</td>\n",
       "      <td>9</td>\n",
       "      <td>2022</td>\n",
       "    </tr>\n",
       "    <tr>\n",
       "      <th>616624</th>\n",
       "      <td>classic_bike</td>\n",
       "      <td>2022-09-04 15:31:22</td>\n",
       "      <td>2022-09-04 15:42:53</td>\n",
       "      <td>member</td>\n",
       "      <td>41.903029</td>\n",
       "      <td>-87.697474</td>\n",
       "      <td>41.903450</td>\n",
       "      <td>-87.667747</td>\n",
       "      <td>(41.903029, -87.697474)</td>\n",
       "      <td>(41.90345, -87.667747)</td>\n",
       "      <td>2.467075</td>\n",
       "      <td>2022-09-04</td>\n",
       "      <td>Sunday</td>\n",
       "      <td>2022-09</td>\n",
       "      <td>0</td>\n",
       "      <td>11.516667</td>\n",
       "      <td>9</td>\n",
       "      <td>2022</td>\n",
       "    </tr>\n",
       "  </tbody>\n",
       "</table>\n",
       "</div>"
      ],
      "text/plain": [
       "        rideable_type          started_at            ended_at member_casual  \\\n",
       "495574   classic_bike 2021-09-26 12:33:38 2021-09-26 12:46:17        member   \n",
       "37983    classic_bike 2021-09-12 18:31:11 2021-09-12 18:40:24        casual   \n",
       "37984    classic_bike 2021-09-26 11:47:32 2021-09-26 11:56:01        casual   \n",
       "616634  electric_bike 2022-09-11 17:53:45 2022-09-11 18:00:33        member   \n",
       "616624   classic_bike 2022-09-04 15:31:22 2022-09-04 15:42:53        member   \n",
       "\n",
       "        start_lat  start_lng    end_lat    end_lng  \\\n",
       "495574  41.966400 -87.688704  41.940600 -87.678500   \n",
       "37983   41.893992 -87.629318  41.907993 -87.631501   \n",
       "37984   41.893992 -87.629318  41.907993 -87.631501   \n",
       "616634  41.890000 -87.660000  41.903450 -87.667747   \n",
       "616624  41.903029 -87.697474  41.903450 -87.667747   \n",
       "\n",
       "                                     start_coord                end_coord  \\\n",
       "495574  (41.966399801840986, -87.68870428204536)      (41.9406, -87.6785)   \n",
       "37983                    (41.893992, -87.629318)  (41.907993, -87.631501)   \n",
       "37984                    (41.893992, -87.629318)  (41.907993, -87.631501)   \n",
       "616634                           (41.89, -87.66)   (41.90345, -87.667747)   \n",
       "616624                   (41.903029, -87.697474)   (41.90345, -87.667747)   \n",
       "\n",
       "        distance_km        date day_of_week month_year  Day_id  ride_duration  \\\n",
       "495574     2.987929  2021-09-26      Sunday    2021-09       0      12.650000   \n",
       "37983      1.565625  2021-09-12      Sunday    2021-09       0       9.216667   \n",
       "37984      1.565625  2021-09-26      Sunday    2021-09       0       8.483333   \n",
       "616634     1.626364  2022-09-11      Sunday    2022-09       0       6.800000   \n",
       "616624     2.467075  2022-09-04      Sunday    2022-09       0      11.516667   \n",
       "\n",
       "        month  year  \n",
       "495574      9  2021  \n",
       "37983       9  2021  \n",
       "37984       9  2021  \n",
       "616634      9  2022  \n",
       "616624      9  2022  "
      ]
     },
     "execution_count": 52,
     "metadata": {},
     "output_type": "execute_result"
    }
   ],
   "source": [
    "# collecting date, day_of_week, month and year, and Month_year from 'started_at\n",
    "import datetime\n",
    "from datetime import date\n",
    "\n",
    "new_df['date'] = pd.to_datetime(new_df['started_at']).dt.date # getting the date of the bike trip\n",
    "new_df['day_of_week'] = new_df['started_at'].dt.day_name() # getting the day_of_week of the bike trip\n",
    "new_df['month'] = new_df['started_at'].dt.month # getting the month of the bike trip\n",
    "new_df['year'] = new_df['started_at'].dt.year # getting the year of the bike trip\n",
    "new_df['month_year'] = new_df['started_at'].dt.to_period('M') # getting the month_year of the bike trip\n",
    "\n",
    "new_df.head()"
   ]
  },
  {
   "cell_type": "code",
   "execution_count": 53,
   "id": "7b1eaae0",
   "metadata": {},
   "outputs": [
    {
     "name": "stderr",
     "output_type": "stream",
     "text": [
      "/var/folders/wx/vd1lhmjn7xz10rb8z09shxyw0000gn/T/ipykernel_7999/105173189.py:7: SettingWithCopyWarning: \n",
      "A value is trying to be set on a copy of a slice from a DataFrame.\n",
      "Try using .loc[row_indexer,col_indexer] = value instead\n",
      "\n",
      "See the caveats in the documentation: https://pandas.pydata.org/pandas-docs/stable/user_guide/indexing.html#returning-a-view-versus-a-copy\n",
      "  new_df['Day_id'] = new_df['day_of_week'].map(sorterIndex)\n"
     ]
    }
   ],
   "source": [
    "# sorting so that day_of_week appears on the chronological order, and not an arbitrary order. \n",
    "# in this sorted manner Sunday will be the first day of the week and Saturday will be the last day of the week.\n",
    "\n",
    "sorter = ['Sunday', 'Monday', 'Tuesday', 'Wednesday', 'Thursday', 'Friday', 'Saturday']\n",
    "sorterIndex = dict(zip(sorter,range(len(sorter))))\n",
    "\n",
    "new_df['Day_id'] = new_df['day_of_week'].map(sorterIndex)\n"
   ]
  },
  {
   "cell_type": "markdown",
   "id": "b2d8e2a2",
   "metadata": {},
   "source": [
    "### Phase 4: Analyze"
   ]
  },
  {
   "cell_type": "code",
   "execution_count": 54,
   "id": "f08cbe58",
   "metadata": {
    "scrolled": true
   },
   "outputs": [
    {
     "data": {
      "text/html": [
       "<div>\n",
       "<style scoped>\n",
       "    .dataframe tbody tr th:only-of-type {\n",
       "        vertical-align: middle;\n",
       "    }\n",
       "\n",
       "    .dataframe tbody tr th {\n",
       "        vertical-align: top;\n",
       "    }\n",
       "\n",
       "    .dataframe thead th {\n",
       "        text-align: right;\n",
       "    }\n",
       "</style>\n",
       "<table border=\"1\" class=\"dataframe\">\n",
       "  <thead>\n",
       "    <tr style=\"text-align: right;\">\n",
       "      <th>month_year</th>\n",
       "      <th>2021-09</th>\n",
       "      <th>2021-10</th>\n",
       "      <th>2021-11</th>\n",
       "      <th>2021-12</th>\n",
       "      <th>2022-01</th>\n",
       "      <th>2022-02</th>\n",
       "      <th>2022-03</th>\n",
       "      <th>2022-04</th>\n",
       "      <th>2022-05</th>\n",
       "      <th>2022-06</th>\n",
       "      <th>2022-07</th>\n",
       "      <th>2022-08</th>\n",
       "      <th>2022-09</th>\n",
       "    </tr>\n",
       "    <tr>\n",
       "      <th>member_casual</th>\n",
       "      <th></th>\n",
       "      <th></th>\n",
       "      <th></th>\n",
       "      <th></th>\n",
       "      <th></th>\n",
       "      <th></th>\n",
       "      <th></th>\n",
       "      <th></th>\n",
       "      <th></th>\n",
       "      <th></th>\n",
       "      <th></th>\n",
       "      <th></th>\n",
       "      <th></th>\n",
       "    </tr>\n",
       "  </thead>\n",
       "  <tbody>\n",
       "    <tr>\n",
       "      <th>casual</th>\n",
       "      <td>26.666988</td>\n",
       "      <td>24.173512</td>\n",
       "      <td>20.068153</td>\n",
       "      <td>21.283059</td>\n",
       "      <td>23.739058</td>\n",
       "      <td>22.090102</td>\n",
       "      <td>25.738079</td>\n",
       "      <td>23.353435</td>\n",
       "      <td>25.542022</td>\n",
       "      <td>23.375420</td>\n",
       "      <td>23.292270</td>\n",
       "      <td>21.418769</td>\n",
       "      <td>19.973108</td>\n",
       "    </tr>\n",
       "    <tr>\n",
       "      <th>member</th>\n",
       "      <td>13.482239</td>\n",
       "      <td>12.257701</td>\n",
       "      <td>11.084033</td>\n",
       "      <td>10.836995</td>\n",
       "      <td>11.613123</td>\n",
       "      <td>11.057793</td>\n",
       "      <td>11.743417</td>\n",
       "      <td>11.364730</td>\n",
       "      <td>13.064651</td>\n",
       "      <td>13.653017</td>\n",
       "      <td>13.433468</td>\n",
       "      <td>13.081240</td>\n",
       "      <td>12.611991</td>\n",
       "    </tr>\n",
       "  </tbody>\n",
       "</table>\n",
       "</div>"
      ],
      "text/plain": [
       "month_year       2021-09    2021-10    2021-11    2021-12    2022-01  \\\n",
       "member_casual                                                          \n",
       "casual         26.666988  24.173512  20.068153  21.283059  23.739058   \n",
       "member         13.482239  12.257701  11.084033  10.836995  11.613123   \n",
       "\n",
       "month_year       2022-02    2022-03    2022-04    2022-05    2022-06  \\\n",
       "member_casual                                                          \n",
       "casual         22.090102  25.738079  23.353435  25.542022  23.375420   \n",
       "member         11.057793  11.743417  11.364730  13.064651  13.653017   \n",
       "\n",
       "month_year       2022-07    2022-08    2022-09  \n",
       "member_casual                                   \n",
       "casual         23.292270  21.418769  19.973108  \n",
       "member         13.433468  13.081240  12.611991  "
      ]
     },
     "execution_count": 54,
     "metadata": {},
     "output_type": "execute_result"
    }
   ],
   "source": [
    "# seeing in a table manner the ride duration of members vs casuals troughout the year \n",
    "\n",
    "pd.pivot_table(new_df, values='ride_duration',index=['member_casual'],columns=['month_year'])"
   ]
  },
  {
   "cell_type": "code",
   "execution_count": 56,
   "id": "8f47d384",
   "metadata": {},
   "outputs": [
    {
     "data": {
      "text/html": [
       "<div>\n",
       "<style scoped>\n",
       "    .dataframe tbody tr th:only-of-type {\n",
       "        vertical-align: middle;\n",
       "    }\n",
       "\n",
       "    .dataframe tbody tr th {\n",
       "        vertical-align: top;\n",
       "    }\n",
       "\n",
       "    .dataframe thead th {\n",
       "        text-align: right;\n",
       "    }\n",
       "</style>\n",
       "<table border=\"1\" class=\"dataframe\">\n",
       "  <thead>\n",
       "    <tr style=\"text-align: right;\">\n",
       "      <th>day_of_week</th>\n",
       "      <th>Friday</th>\n",
       "      <th>Monday</th>\n",
       "      <th>Saturday</th>\n",
       "      <th>Sunday</th>\n",
       "      <th>Thursday</th>\n",
       "      <th>Tuesday</th>\n",
       "      <th>Wednesday</th>\n",
       "    </tr>\n",
       "    <tr>\n",
       "      <th>member_casual</th>\n",
       "      <th></th>\n",
       "      <th></th>\n",
       "      <th></th>\n",
       "      <th></th>\n",
       "      <th></th>\n",
       "      <th></th>\n",
       "      <th></th>\n",
       "    </tr>\n",
       "  </thead>\n",
       "  <tbody>\n",
       "    <tr>\n",
       "      <th>casual</th>\n",
       "      <td>21.781405</td>\n",
       "      <td>24.131609</td>\n",
       "      <td>26.002080</td>\n",
       "      <td>27.156336</td>\n",
       "      <td>20.613104</td>\n",
       "      <td>20.448151</td>\n",
       "      <td>20.136934</td>\n",
       "    </tr>\n",
       "    <tr>\n",
       "      <th>member</th>\n",
       "      <td>12.368963</td>\n",
       "      <td>12.226396</td>\n",
       "      <td>14.046103</td>\n",
       "      <td>14.026152</td>\n",
       "      <td>12.114881</td>\n",
       "      <td>11.917926</td>\n",
       "      <td>11.979390</td>\n",
       "    </tr>\n",
       "  </tbody>\n",
       "</table>\n",
       "</div>"
      ],
      "text/plain": [
       "day_of_week       Friday     Monday   Saturday     Sunday   Thursday  \\\n",
       "member_casual                                                          \n",
       "casual         21.781405  24.131609  26.002080  27.156336  20.613104   \n",
       "member         12.368963  12.226396  14.046103  14.026152  12.114881   \n",
       "\n",
       "day_of_week      Tuesday  Wednesday  \n",
       "member_casual                        \n",
       "casual         20.448151  20.136934  \n",
       "member         11.917926  11.979390  "
      ]
     },
     "execution_count": 56,
     "metadata": {},
     "output_type": "execute_result"
    }
   ],
   "source": [
    "# seeing in a table manner the ride duration of members vs casuals troughout the days of the week\n",
    "\n",
    "pd.pivot_table(new_df,values='ride_duration',index=['member_casual'],columns=['day_of_week'])"
   ]
  },
  {
   "cell_type": "code",
   "execution_count": 57,
   "id": "51667958",
   "metadata": {},
   "outputs": [
    {
     "data": {
      "text/html": [
       "<div>\n",
       "<style scoped>\n",
       "    .dataframe tbody tr th:only-of-type {\n",
       "        vertical-align: middle;\n",
       "    }\n",
       "\n",
       "    .dataframe tbody tr th {\n",
       "        vertical-align: top;\n",
       "    }\n",
       "\n",
       "    .dataframe thead th {\n",
       "        text-align: right;\n",
       "    }\n",
       "</style>\n",
       "<table border=\"1\" class=\"dataframe\">\n",
       "  <thead>\n",
       "    <tr style=\"text-align: right;\">\n",
       "      <th>rideable_type</th>\n",
       "      <th>classic_bike</th>\n",
       "      <th>docked_bike</th>\n",
       "      <th>electric_bike</th>\n",
       "    </tr>\n",
       "    <tr>\n",
       "      <th>member_casual</th>\n",
       "      <th></th>\n",
       "      <th></th>\n",
       "      <th></th>\n",
       "    </tr>\n",
       "  </thead>\n",
       "  <tbody>\n",
       "    <tr>\n",
       "      <th>casual</th>\n",
       "      <td>1133855.0</td>\n",
       "      <td>225265.0</td>\n",
       "      <td>1400450.0</td>\n",
       "    </tr>\n",
       "    <tr>\n",
       "      <th>member</th>\n",
       "      <td>2065053.0</td>\n",
       "      <td>NaN</td>\n",
       "      <td>1753320.0</td>\n",
       "    </tr>\n",
       "  </tbody>\n",
       "</table>\n",
       "</div>"
      ],
      "text/plain": [
       "rideable_type  classic_bike  docked_bike  electric_bike\n",
       "member_casual                                          \n",
       "casual            1133855.0     225265.0      1400450.0\n",
       "member            2065053.0          NaN      1753320.0"
      ]
     },
     "execution_count": 57,
     "metadata": {},
     "output_type": "execute_result"
    }
   ],
   "source": [
    "# seeing in a table manner the number of trips of members vs casuals of the different types of bikes available\n",
    "\n",
    "pd.pivot_table(new_df,values='date',index=['member_casual'],columns=['rideable_type'], aggfunc = 'count')"
   ]
  },
  {
   "cell_type": "code",
   "execution_count": 67,
   "id": "fe340056",
   "metadata": {},
   "outputs": [
    {
     "data": {
      "text/html": [
       "<div>\n",
       "<style scoped>\n",
       "    .dataframe tbody tr th:only-of-type {\n",
       "        vertical-align: middle;\n",
       "    }\n",
       "\n",
       "    .dataframe tbody tr th {\n",
       "        vertical-align: top;\n",
       "    }\n",
       "\n",
       "    .dataframe thead th {\n",
       "        text-align: right;\n",
       "    }\n",
       "</style>\n",
       "<table border=\"1\" class=\"dataframe\">\n",
       "  <thead>\n",
       "    <tr style=\"text-align: right;\">\n",
       "      <th>day_of_week</th>\n",
       "      <th>Friday</th>\n",
       "      <th>Monday</th>\n",
       "      <th>Saturday</th>\n",
       "      <th>Sunday</th>\n",
       "      <th>Thursday</th>\n",
       "      <th>Tuesday</th>\n",
       "      <th>Wednesday</th>\n",
       "    </tr>\n",
       "    <tr>\n",
       "      <th>member_casual</th>\n",
       "      <th></th>\n",
       "      <th></th>\n",
       "      <th></th>\n",
       "      <th></th>\n",
       "      <th></th>\n",
       "      <th></th>\n",
       "      <th></th>\n",
       "    </tr>\n",
       "  </thead>\n",
       "  <tbody>\n",
       "    <tr>\n",
       "      <th>casual</th>\n",
       "      <td>2.205847</td>\n",
       "      <td>2.151150</td>\n",
       "      <td>2.342808</td>\n",
       "      <td>2.299915</td>\n",
       "      <td>2.186307</td>\n",
       "      <td>2.146312</td>\n",
       "      <td>2.162514</td>\n",
       "    </tr>\n",
       "    <tr>\n",
       "      <th>member</th>\n",
       "      <td>2.065624</td>\n",
       "      <td>2.052958</td>\n",
       "      <td>2.205538</td>\n",
       "      <td>2.163371</td>\n",
       "      <td>2.084982</td>\n",
       "      <td>2.062231</td>\n",
       "      <td>2.084867</td>\n",
       "    </tr>\n",
       "  </tbody>\n",
       "</table>\n",
       "</div>"
      ],
      "text/plain": [
       "day_of_week      Friday    Monday  Saturday    Sunday  Thursday   Tuesday  \\\n",
       "member_casual                                                               \n",
       "casual         2.205847  2.151150  2.342808  2.299915  2.186307  2.146312   \n",
       "member         2.065624  2.052958  2.205538  2.163371  2.084982  2.062231   \n",
       "\n",
       "day_of_week    Wednesday  \n",
       "member_casual             \n",
       "casual          2.162514  \n",
       "member          2.084867  "
      ]
     },
     "execution_count": 67,
     "metadata": {},
     "output_type": "execute_result"
    }
   ],
   "source": [
    "# seeing in a table manner the average distance of trips of members vs casuals troughout the days of the week\n",
    "\n",
    "pd.pivot_table(new_df, values ='distance_km', index = 'member_casual', columns= 'day_of_week' )\n",
    "\n"
   ]
  },
  {
   "cell_type": "markdown",
   "id": "541e7992",
   "metadata": {},
   "source": [
    "## Visualizing the data"
   ]
  },
  {
   "cell_type": "code",
   "execution_count": 68,
   "id": "5b1f79b0",
   "metadata": {},
   "outputs": [],
   "source": [
    "# importing visualization/graphing libraries \n",
    "\n",
    "import matplotlib.pyplot as plt\n",
    "from matplotlib.pyplot import figure\n",
    "%matplotlib inline\n",
    "import seaborn as sns"
   ]
  },
  {
   "cell_type": "markdown",
   "id": "0951c698",
   "metadata": {},
   "source": [
    "### Graph 1 \n",
    "\n",
    "Graphing out the percentage of members vs casual riders of the bike share app "
   ]
  },
  {
   "cell_type": "code",
   "execution_count": 72,
   "id": "3da561f2",
   "metadata": {
    "scrolled": false
   },
   "outputs": [
    {
     "data": {
      "image/png": "[encoded data removed]",
      "text/plain": [
       "<Figure size 360x360 with 1 Axes>"
      ]
     },
     "metadata": {},
     "output_type": "display_data"
    }
   ],
   "source": [
    "graph1 = new_df['member_casual'].value_counts(normalize=True) # normaliza = True to make it as a percentage\n",
    "graph1 = graph1.mul(100).rename('Percent').reset_index() \n",
    "\n",
    "g1 = sns.catplot(x='index', y='Percent', kind='bar', data=graph1)\n",
    "g1.set_axis_labels(\"\", \"Percentage\")\n",
    "g1.set(title='Percentage of Members vs Casuals');"
   ]
  },
  {
   "cell_type": "markdown",
   "id": "6dd1b130",
   "metadata": {},
   "source": [
    "### Graph 2 \n",
    "\n",
    "Graphing most used bikes in the stations as a percentage"
   ]
  },
  {
   "cell_type": "code",
   "execution_count": 73,
   "id": "1c1854d1",
   "metadata": {},
   "outputs": [
    {
     "data": {
      "image/png": "[encoded data removed]",
      "text/plain": [
       "<Figure size 360x360 with 1 Axes>"
      ]
     },
     "metadata": {},
     "output_type": "display_data"
    }
   ],
   "source": [
    "graph2 = new_df['rideable_type'].value_counts(normalize=True)\n",
    "graph2 = graph2.mul(100).rename('Percent').reset_index()\n",
    "\n",
    "g2 = sns.catplot(x='index', y='Percent', kind='bar', data=graph2)\n",
    "g2.set_axis_labels(\"Type of Bike Used\", \"Percentage\")\n",
    "g2.set(title='Most Used Bikes as a Percentage');"
   ]
  },
  {
   "cell_type": "markdown",
   "id": "8e37b6f6",
   "metadata": {},
   "source": [
    "### Graph 3\n",
    "\n",
    "Graphing the Trip duration by members vs casual riders"
   ]
  },
  {
   "cell_type": "code",
   "execution_count": 56,
   "id": "0e6b4c2b",
   "metadata": {},
   "outputs": [
    {
     "data": {
      "image/png": "[encoded data removed]",
      "text/plain": [
       "<Figure size 1440x720 with 1 Axes>"
      ]
     },
     "metadata": {},
     "output_type": "display_data"
    }
   ],
   "source": [
    "graph3 = new_df[['member_casual','month_year', 'ride_duration']].groupby(['member_casual', 'month_year'], as_index = False).agg({'ride_duration': 'mean'}).sort_values(['month_year'],ascending = True)\n",
    "\n",
    "time = ['2021 Sep', '2021 Oct', '2021 Nov', '2021 Dec', '2022 Jan', '2022 Feb', '2022 Mar', '2022 Apr', '2022 May', '2022 Jun', '2022 Jul', '2022 Aug', '2022 Sep']\n",
    "\n",
    "plt.figure(figsize = (20, 10))\n",
    "sns.set_style(\"whitegrid\")\n",
    "sns.barplot(data=graph3, x='month_year' ,y=\"ride_duration\" , hue='member_casual')\n",
    "plt.tight_layout() \n",
    "plt.title('Trip Duration by Group');"
   ]
  },
  {
   "cell_type": "markdown",
   "id": "93d5b5a7",
   "metadata": {},
   "source": [
    "### Graph 4\n",
    "\n",
    "Graphing the count trips by members vs casuals troughout the year"
   ]
  },
  {
   "cell_type": "code",
   "execution_count": 75,
   "id": "6385d0b4",
   "metadata": {},
   "outputs": [
    {
     "data": {
      "image/png": "[encoded data removed]",
      "text/plain": [
       "<Figure size 1440x720 with 1 Axes>"
      ]
     },
     "metadata": {},
     "output_type": "display_data"
    }
   ],
   "source": [
    "graph4 = new_df[['member_casual', 'month_year','ride_duration']].groupby(['member_casual', 'month_year'], as_index = False).agg({'ride_duration': 'count'}).sort_values(['month_year'],ascending = True)\n",
    "time = ['2021 Sep', '2021 Oct', '2021 Nov', '2021 Dec', '2022 Jan', '2022 Feb', '2022 Mar', '2022 Apr', '2022 May', '2022 Jun', '2022 Jul', '2022 Aug', '2022 Sep']\n",
    "\n",
    "plt.figure(figsize = (20, 10))\n",
    "sns.set_style(\"whitegrid\")\n",
    "sns.barplot(data=graph4, x='month_year' ,y=\"ride_duration\" , hue='member_casual')\n",
    "plt.tight_layout() \n",
    "plt.title('Trip Duration by Group');"
   ]
  },
  {
   "cell_type": "markdown",
   "id": "988aa6d4",
   "metadata": {},
   "source": [
    "### Graph 5\n",
    "\n",
    "Graphing average trip by day of the week for group of riders"
   ]
  },
  {
   "cell_type": "code",
   "execution_count": 77,
   "id": "4ef357d2",
   "metadata": {},
   "outputs": [
    {
     "data": {
      "image/png": "[encoded data removed]",
      "text/plain": [
       "<Figure size 1440x720 with 1 Axes>"
      ]
     },
     "metadata": {},
     "output_type": "display_data"
    }
   ],
   "source": [
    "graph5 = new_df[['member_casual', 'day_of_week','ride_duration','Day_id']].groupby(['member_casual', 'day_of_week','Day_id'], as_index = False).agg({'ride_duration': 'mean'}).sort_values('Day_id')\n",
    "\n",
    "\n",
    "plt.figure(figsize = (20, 10))\n",
    "sns.set_style(\"whitegrid\")\n",
    "sns.barplot(data=graph5, x='day_of_week' ,y=\"ride_duration\" , hue='member_casual')\n",
    "plt.tight_layout() \n",
    "plt.xlabel(\"Day of Week\")\n",
    "plt.ylabel(\"Trip Duration (Min)\")\n",
    "plt.title('Average Trip in Minutes by Day of Weeek');"
   ]
  },
  {
   "cell_type": "markdown",
   "id": "6f3e7cd7",
   "metadata": {},
   "source": [
    "### Graph 6\n",
    "\n",
    "Graphing the count trips by day of the week "
   ]
  },
  {
   "cell_type": "code",
   "execution_count": 78,
   "id": "cfee0195",
   "metadata": {},
   "outputs": [
    {
     "data": {
      "image/png": "[encoded data removed]",
      "text/plain": [
       "<Figure size 1440x720 with 1 Axes>"
      ]
     },
     "metadata": {},
     "output_type": "display_data"
    }
   ],
   "source": [
    "graph6 = new_df[['member_casual', 'day_of_week','ride_duration','Day_id']].groupby(['member_casual', 'day_of_week','Day_id'], as_index = False).agg({'ride_duration': 'count'}).sort_values(['Day_id'],ascending = True)\n",
    "\n",
    "\n",
    "plt.figure(figsize = (20, 10))\n",
    "sns.set_style(\"whitegrid\")\n",
    "sns.barplot(data=graph6, x='day_of_week' ,y=\"ride_duration\" , hue='member_casual')\n",
    "plt.tight_layout() \n",
    "plt.xlabel(\"Day of Week\")\n",
    "plt.ylabel(\"Count Trips by Day of Week\")\n",
    "plt.title('Count Trip by Day of Weeek');"
   ]
  },
  {
   "cell_type": "markdown",
   "id": "6c42bc75",
   "metadata": {},
   "source": [
    "### Graph 7\n",
    "\n",
    "Graphing lenght trips by day of the week of members and casual riders"
   ]
  },
  {
   "cell_type": "code",
   "execution_count": 87,
   "id": "d4cd8a9b",
   "metadata": {},
   "outputs": [
    {
     "data": {
      "image/png": "[encoded data removed]",
      "text/plain": [
       "<Figure size 1440x720 with 1 Axes>"
      ]
     },
     "metadata": {},
     "output_type": "display_data"
    }
   ],
   "source": [
    "graph7 = new_df[['member_casual', 'day_of_week','distance_km','Day_id']].groupby(['member_casual', 'day_of_week','Day_id'], as_index = False).agg({'distance_km': 'mean'}).sort_values(['Day_id'],ascending = True)\n",
    "\n",
    "plt.figure(figsize = (20, 10))\n",
    "sns.set_style(\"whitegrid\")\n",
    "g7 = sns.lineplot(data = graph7, x = 'day_of_week', y = 'distance_km',  style = 'member_casual', markers = True)\n",
    "g7.set(xlabel = 'Day of Week ', ylabel = 'Average Distance in KM')\n",
    "plt.title('Average distance during the week in Km');"
   ]
  },
  {
   "cell_type": "markdown",
   "id": "a0151417",
   "metadata": {},
   "source": [
    "### Phase 5: Share\n",
    "The share phase is usually done by building a presentation. In this notebook it was done the analysis & conclusion, and creating visualizations to better understand the \n",
    "\n",
    "### Conclusion\n",
    "1. Member riders can be seen riding more often during the week with shorter duration time, most likely showing that they are using the bike share for their daily commute, where the casual riders are using the bikes more frequently on the weekend, and with longer duration than the members, which shows that the casual riders are using the bike for \n",
    "leisure, and without rush, compared to the members. \n",
    "\n",
    "2. Summer months like July, August & September are more popular and company can focus on this period to maximise their profits. Special 'Summer Membership' can be introduced specifically for casual riders who're hesitant to go for annual membership.\n",
    "\n",
    "3. Have memberships for Casual riders based on the duration of the trips, since Casual riders go on average above 20 minutes every day of the week that they ride having a membership based on longer duration would be interesting for the \"leisure\" type of riders. \n",
    "\n",
    "4. Developing a \"weekend membership\" can drive conversion from Casual riders to members, since casual riders go more frequently and longer during the weekend, that can be a good entry point to conver the casual riders to members of the bike-share program.\n"
   ]
  }
 ],
 "metadata": {
  "kernelspec": {
   "display_name": "Python 3.9.12 ('base')",
   "language": "python",
   "name": "python3"
  },
  "language_info": {
   "codemirror_mode": {
    "name": "ipython",
    "version": 3
   },
   "file_extension": ".py",
   "mimetype": "text/x-python",
   "name": "python",
   "nbconvert_exporter": "python",
   "pygments_lexer": "ipython3",
   "version": "3.9.12"
  },
  "vscode": {
   "interpreter": {
    "hash": "40d3a090f54c6569ab1632332b64b2c03c39dcf918b08424e98f38b5ae0af88f"
   }
  }
 },
 "nbformat": 4,
 "nbformat_minor": 5
}
